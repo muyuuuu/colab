{
  "nbformat": 4,
  "nbformat_minor": 0,
  "metadata": {
    "colab": {
      "name": "Copy of Untitled5.ipynb",
      "provenance": [],
      "collapsed_sections": [],
      "authorship_tag": "ABX9TyM9CTWODpC3Mk/lGhl0yJFk",
      "include_colab_link": true
    },
    "kernelspec": {
      "name": "python3",
      "display_name": "Python 3"
    },
    "language_info": {
      "name": "python"
    },
    "accelerator": "GPU",
    "widgets": {
      "application/vnd.jupyter.widget-state+json": {
        "657968d1f88a48889737f6a3c4b00ebb": {
          "model_module": "@jupyter-widgets/controls",
          "model_name": "HBoxModel",
          "model_module_version": "1.5.0",
          "state": {
            "_view_name": "HBoxView",
            "_dom_classes": [],
            "_model_name": "HBoxModel",
            "_view_module": "@jupyter-widgets/controls",
            "_model_module_version": "1.5.0",
            "_view_count": null,
            "_view_module_version": "1.5.0",
            "box_style": "",
            "layout": "IPY_MODEL_96aa0e70bdb3434ead55ad4f03671f04",
            "_model_module": "@jupyter-widgets/controls",
            "children": [
              "IPY_MODEL_ac37809c552442bb968e64545e0829d9",
              "IPY_MODEL_5d6a5e4518fd4b60a26c33255015e2b7",
              "IPY_MODEL_3ee7c7feb6f245039e3279a3f6641276"
            ]
          }
        },
        "96aa0e70bdb3434ead55ad4f03671f04": {
          "model_module": "@jupyter-widgets/base",
          "model_name": "LayoutModel",
          "model_module_version": "1.2.0",
          "state": {
            "_view_name": "LayoutView",
            "grid_template_rows": null,
            "right": null,
            "justify_content": null,
            "_view_module": "@jupyter-widgets/base",
            "overflow": null,
            "_model_module_version": "1.2.0",
            "_view_count": null,
            "flex_flow": null,
            "width": null,
            "min_width": null,
            "border": null,
            "align_items": null,
            "bottom": null,
            "_model_module": "@jupyter-widgets/base",
            "top": null,
            "grid_column": null,
            "overflow_y": null,
            "overflow_x": null,
            "grid_auto_flow": null,
            "grid_area": null,
            "grid_template_columns": null,
            "flex": null,
            "_model_name": "LayoutModel",
            "justify_items": null,
            "grid_row": null,
            "max_height": null,
            "align_content": null,
            "visibility": null,
            "align_self": null,
            "height": null,
            "min_height": null,
            "padding": null,
            "grid_auto_rows": null,
            "grid_gap": null,
            "max_width": null,
            "order": null,
            "_view_module_version": "1.2.0",
            "grid_template_areas": null,
            "object_position": null,
            "object_fit": null,
            "grid_auto_columns": null,
            "margin": null,
            "display": null,
            "left": null
          }
        },
        "ac37809c552442bb968e64545e0829d9": {
          "model_module": "@jupyter-widgets/controls",
          "model_name": "HTMLModel",
          "model_module_version": "1.5.0",
          "state": {
            "_view_name": "HTMLView",
            "style": "IPY_MODEL_8c587bda36634190833ab8cfa2cf986d",
            "_dom_classes": [],
            "description": "",
            "_model_name": "HTMLModel",
            "placeholder": "​",
            "_view_module": "@jupyter-widgets/controls",
            "_model_module_version": "1.5.0",
            "value": "",
            "_view_count": null,
            "_view_module_version": "1.5.0",
            "description_tooltip": null,
            "_model_module": "@jupyter-widgets/controls",
            "layout": "IPY_MODEL_fc230f407673453d9cfc7631422fba6a"
          }
        },
        "5d6a5e4518fd4b60a26c33255015e2b7": {
          "model_module": "@jupyter-widgets/controls",
          "model_name": "FloatProgressModel",
          "model_module_version": "1.5.0",
          "state": {
            "_view_name": "ProgressView",
            "style": "IPY_MODEL_67f8ae1c59fc4d8ca82d68cd3bb2d5db",
            "_dom_classes": [],
            "description": "",
            "_model_name": "FloatProgressModel",
            "bar_style": "success",
            "max": 170498071,
            "_view_module": "@jupyter-widgets/controls",
            "_model_module_version": "1.5.0",
            "value": 170498071,
            "_view_count": null,
            "_view_module_version": "1.5.0",
            "orientation": "horizontal",
            "min": 0,
            "description_tooltip": null,
            "_model_module": "@jupyter-widgets/controls",
            "layout": "IPY_MODEL_69f0720c283545d79a9e120bd8543d06"
          }
        },
        "3ee7c7feb6f245039e3279a3f6641276": {
          "model_module": "@jupyter-widgets/controls",
          "model_name": "HTMLModel",
          "model_module_version": "1.5.0",
          "state": {
            "_view_name": "HTMLView",
            "style": "IPY_MODEL_970468e444f04d97a4ef141132631911",
            "_dom_classes": [],
            "description": "",
            "_model_name": "HTMLModel",
            "placeholder": "​",
            "_view_module": "@jupyter-widgets/controls",
            "_model_module_version": "1.5.0",
            "value": " 170499072/? [00:04&lt;00:00, 48562389.65it/s]",
            "_view_count": null,
            "_view_module_version": "1.5.0",
            "description_tooltip": null,
            "_model_module": "@jupyter-widgets/controls",
            "layout": "IPY_MODEL_8555e2236a0844a284da70129ac33c5a"
          }
        },
        "8c587bda36634190833ab8cfa2cf986d": {
          "model_module": "@jupyter-widgets/controls",
          "model_name": "DescriptionStyleModel",
          "model_module_version": "1.5.0",
          "state": {
            "_view_name": "StyleView",
            "_model_name": "DescriptionStyleModel",
            "description_width": "",
            "_view_module": "@jupyter-widgets/base",
            "_model_module_version": "1.5.0",
            "_view_count": null,
            "_view_module_version": "1.2.0",
            "_model_module": "@jupyter-widgets/controls"
          }
        },
        "fc230f407673453d9cfc7631422fba6a": {
          "model_module": "@jupyter-widgets/base",
          "model_name": "LayoutModel",
          "model_module_version": "1.2.0",
          "state": {
            "_view_name": "LayoutView",
            "grid_template_rows": null,
            "right": null,
            "justify_content": null,
            "_view_module": "@jupyter-widgets/base",
            "overflow": null,
            "_model_module_version": "1.2.0",
            "_view_count": null,
            "flex_flow": null,
            "width": null,
            "min_width": null,
            "border": null,
            "align_items": null,
            "bottom": null,
            "_model_module": "@jupyter-widgets/base",
            "top": null,
            "grid_column": null,
            "overflow_y": null,
            "overflow_x": null,
            "grid_auto_flow": null,
            "grid_area": null,
            "grid_template_columns": null,
            "flex": null,
            "_model_name": "LayoutModel",
            "justify_items": null,
            "grid_row": null,
            "max_height": null,
            "align_content": null,
            "visibility": null,
            "align_self": null,
            "height": null,
            "min_height": null,
            "padding": null,
            "grid_auto_rows": null,
            "grid_gap": null,
            "max_width": null,
            "order": null,
            "_view_module_version": "1.2.0",
            "grid_template_areas": null,
            "object_position": null,
            "object_fit": null,
            "grid_auto_columns": null,
            "margin": null,
            "display": null,
            "left": null
          }
        },
        "67f8ae1c59fc4d8ca82d68cd3bb2d5db": {
          "model_module": "@jupyter-widgets/controls",
          "model_name": "ProgressStyleModel",
          "model_module_version": "1.5.0",
          "state": {
            "_view_name": "StyleView",
            "_model_name": "ProgressStyleModel",
            "description_width": "",
            "_view_module": "@jupyter-widgets/base",
            "_model_module_version": "1.5.0",
            "_view_count": null,
            "_view_module_version": "1.2.0",
            "bar_color": null,
            "_model_module": "@jupyter-widgets/controls"
          }
        },
        "69f0720c283545d79a9e120bd8543d06": {
          "model_module": "@jupyter-widgets/base",
          "model_name": "LayoutModel",
          "model_module_version": "1.2.0",
          "state": {
            "_view_name": "LayoutView",
            "grid_template_rows": null,
            "right": null,
            "justify_content": null,
            "_view_module": "@jupyter-widgets/base",
            "overflow": null,
            "_model_module_version": "1.2.0",
            "_view_count": null,
            "flex_flow": null,
            "width": null,
            "min_width": null,
            "border": null,
            "align_items": null,
            "bottom": null,
            "_model_module": "@jupyter-widgets/base",
            "top": null,
            "grid_column": null,
            "overflow_y": null,
            "overflow_x": null,
            "grid_auto_flow": null,
            "grid_area": null,
            "grid_template_columns": null,
            "flex": null,
            "_model_name": "LayoutModel",
            "justify_items": null,
            "grid_row": null,
            "max_height": null,
            "align_content": null,
            "visibility": null,
            "align_self": null,
            "height": null,
            "min_height": null,
            "padding": null,
            "grid_auto_rows": null,
            "grid_gap": null,
            "max_width": null,
            "order": null,
            "_view_module_version": "1.2.0",
            "grid_template_areas": null,
            "object_position": null,
            "object_fit": null,
            "grid_auto_columns": null,
            "margin": null,
            "display": null,
            "left": null
          }
        },
        "970468e444f04d97a4ef141132631911": {
          "model_module": "@jupyter-widgets/controls",
          "model_name": "DescriptionStyleModel",
          "model_module_version": "1.5.0",
          "state": {
            "_view_name": "StyleView",
            "_model_name": "DescriptionStyleModel",
            "description_width": "",
            "_view_module": "@jupyter-widgets/base",
            "_model_module_version": "1.5.0",
            "_view_count": null,
            "_view_module_version": "1.2.0",
            "_model_module": "@jupyter-widgets/controls"
          }
        },
        "8555e2236a0844a284da70129ac33c5a": {
          "model_module": "@jupyter-widgets/base",
          "model_name": "LayoutModel",
          "model_module_version": "1.2.0",
          "state": {
            "_view_name": "LayoutView",
            "grid_template_rows": null,
            "right": null,
            "justify_content": null,
            "_view_module": "@jupyter-widgets/base",
            "overflow": null,
            "_model_module_version": "1.2.0",
            "_view_count": null,
            "flex_flow": null,
            "width": null,
            "min_width": null,
            "border": null,
            "align_items": null,
            "bottom": null,
            "_model_module": "@jupyter-widgets/base",
            "top": null,
            "grid_column": null,
            "overflow_y": null,
            "overflow_x": null,
            "grid_auto_flow": null,
            "grid_area": null,
            "grid_template_columns": null,
            "flex": null,
            "_model_name": "LayoutModel",
            "justify_items": null,
            "grid_row": null,
            "max_height": null,
            "align_content": null,
            "visibility": null,
            "align_self": null,
            "height": null,
            "min_height": null,
            "padding": null,
            "grid_auto_rows": null,
            "grid_gap": null,
            "max_width": null,
            "order": null,
            "_view_module_version": "1.2.0",
            "grid_template_areas": null,
            "object_position": null,
            "object_fit": null,
            "grid_auto_columns": null,
            "margin": null,
            "display": null,
            "left": null
          }
        }
      }
    }
  },
  "cells": [
    {
      "cell_type": "markdown",
      "metadata": {
        "id": "view-in-github",
        "colab_type": "text"
      },
      "source": [
        "<a href=\"https://colab.research.google.com/github/muyuuuu/colab/blob/main/adversarial-denoise/adp(ICML%20202021).ipynb\" target=\"_parent\"><img src=\"https://colab.research.google.com/assets/colab-badge.svg\" alt=\"Open In Colab\"/></a>"
      ]
    },
    {
      "cell_type": "code",
      "metadata": {
        "id": "LDo9fPVlKogB"
      },
      "source": [
        "import torch\n",
        "import torchvision\n",
        "import torchvision.transforms as transforms\n",
        "import torch.optim as optim\n",
        "import torch.nn.functional as F\n",
        "import torch.nn as nn\n",
        "\n",
        "import numpy as np"
      ],
      "execution_count": 1,
      "outputs": []
    },
    {
      "cell_type": "code",
      "metadata": {
        "colab": {
          "base_uri": "https://localhost:8080/",
          "height": 102,
          "referenced_widgets": [
            "657968d1f88a48889737f6a3c4b00ebb",
            "96aa0e70bdb3434ead55ad4f03671f04",
            "ac37809c552442bb968e64545e0829d9",
            "5d6a5e4518fd4b60a26c33255015e2b7",
            "3ee7c7feb6f245039e3279a3f6641276",
            "8c587bda36634190833ab8cfa2cf986d",
            "fc230f407673453d9cfc7631422fba6a",
            "67f8ae1c59fc4d8ca82d68cd3bb2d5db",
            "69f0720c283545d79a9e120bd8543d06",
            "970468e444f04d97a4ef141132631911",
            "8555e2236a0844a284da70129ac33c5a"
          ]
        },
        "id": "CbLxKto4R8Fu",
        "outputId": "89def2cc-ebe2-4286-acf0-760da5325429"
      },
      "source": [
        "transform = transforms.Compose(\n",
        "    [transforms.ToTensor(),\n",
        "     transforms.Normalize((0.49, 0.48, 0.44), (0.24, 0.24, 0.26))])\n",
        "\n",
        "batch_size = 32\n",
        "device = torch.device(\"cuda:0\" if torch.cuda.is_available() else \"cpu\")\n",
        "\n",
        "\n",
        "trainset = torchvision.datasets.CIFAR10(root='./data', train=True,\n",
        "                                        download=True, transform=transform)\n",
        "trainloader = torch.utils.data.DataLoader(trainset, batch_size=batch_size,\n",
        "                                          shuffle=True, num_workers=2)\n",
        "\n",
        "testset = torchvision.datasets.CIFAR10(root='./data', train=False,\n",
        "                                       download=True, transform=transform)\n",
        "testloader = torch.utils.data.DataLoader(testset, batch_size=batch_size,\n",
        "                                         shuffle=False, num_workers=2)"
      ],
      "execution_count": 2,
      "outputs": [
        {
          "output_type": "stream",
          "text": [
            "Downloading https://www.cs.toronto.edu/~kriz/cifar-10-python.tar.gz to ./data/cifar-10-python.tar.gz\n"
          ],
          "name": "stdout"
        },
        {
          "output_type": "display_data",
          "data": {
            "application/vnd.jupyter.widget-view+json": {
              "model_id": "657968d1f88a48889737f6a3c4b00ebb",
              "version_minor": 0,
              "version_major": 2
            },
            "text/plain": [
              "  0%|          | 0/170498071 [00:00<?, ?it/s]"
            ]
          },
          "metadata": {}
        },
        {
          "output_type": "stream",
          "text": [
            "Extracting ./data/cifar-10-python.tar.gz to ./data\n",
            "Files already downloaded and verified\n"
          ],
          "name": "stdout"
        }
      ]
    },
    {
      "cell_type": "code",
      "metadata": {
        "id": "IA9eTmt-Re-_"
      },
      "source": [
        "class Score(nn.Module):\n",
        "    def __init__(self):\n",
        "        super().__init__()\n",
        "\n",
        "        nef = 32\n",
        "        self.u_net = nn.Sequential(\n",
        "            # input is (nc) x 28 x 28\n",
        "            nn.Conv2d(3, nef, 16, stride=2, padding=2),\n",
        "            # nn.Softplus(),\n",
        "            nn.GroupNorm(4, nef),\n",
        "            nn.ELU(),\n",
        "            # state size. (nef) x 14 x 14\n",
        "            nn.Conv2d(nef, nef * 2, 4, stride=2, padding=2),\n",
        "            nn.GroupNorm(4, nef * 2),\n",
        "            # nn.Softplus(),\n",
        "            nn.ELU(),\n",
        "            # state size. (nef*2) x 7 x 7\n",
        "            nn.Conv2d(nef * 2, nef * 4, 5, stride=1, padding=2),\n",
        "            nn.GroupNorm(4, nef * 4),\n",
        "            # nn.Softplus(),\n",
        "            nn.ELU(),\n",
        "            # state size. (nef*4) x 3 x 3\n",
        "            nn.ConvTranspose2d(nef * 4, nef * 2, 5, stride=1, padding=1),\n",
        "            nn.GroupNorm(4, nef * 2),\n",
        "            # nn.Softplus(),\n",
        "            nn.ELU(),\n",
        "            # state size. (nef*2) x 7 x 7\n",
        "            nn.ConvTranspose2d(nef * 2, nef, 4, stride=2, padding=1),\n",
        "            nn.GroupNorm(4, nef),\n",
        "            # nn.Softplus(),\n",
        "            nn.ELU(),\n",
        "            # state size. (nef) x 14 x 14\n",
        "            nn.ConvTranspose2d(nef, 3, 4, stride=2, padding=1),\n",
        "            # nn.Softplus()\n",
        "\n",
        "            nn.ELU()\n",
        "        )\n",
        "        self.fc = nn.Sequential(\n",
        "            nn.Linear(3 * 32 * 32, 1024),\n",
        "            nn.LayerNorm(1024),\n",
        "            nn.ELU(),\n",
        "            nn.Linear(1024, 3 * 32 * 32)\n",
        "        )\n",
        "\n",
        "    def forward(self, x):\n",
        "\n",
        "        score = self.u_net(x)\n",
        "        score = self.fc(score.view(x.shape[0], -1)).view(\n",
        "            x.shape[0], 3, 32, 32)\n",
        "\n",
        "        return score"
      ],
      "execution_count": 3,
      "outputs": []
    },
    {
      "cell_type": "code",
      "metadata": {
        "colab": {
          "base_uri": "https://localhost:8080/"
        },
        "id": "qlgfIm1CRjZR",
        "outputId": "edfe120a-df0b-4124-83c2-8d652d3fd1d0"
      },
      "source": [
        "net = Score().to(device)\n",
        "net.load_state_dict(torch.load('score.pth'))\n",
        "net.eval()"
      ],
      "execution_count": 5,
      "outputs": [
        {
          "output_type": "execute_result",
          "data": {
            "text/plain": [
              "Score(\n",
              "  (u_net): Sequential(\n",
              "    (0): Conv2d(3, 32, kernel_size=(16, 16), stride=(2, 2), padding=(2, 2))\n",
              "    (1): GroupNorm(4, 32, eps=1e-05, affine=True)\n",
              "    (2): ELU(alpha=1.0)\n",
              "    (3): Conv2d(32, 64, kernel_size=(4, 4), stride=(2, 2), padding=(2, 2))\n",
              "    (4): GroupNorm(4, 64, eps=1e-05, affine=True)\n",
              "    (5): ELU(alpha=1.0)\n",
              "    (6): Conv2d(64, 128, kernel_size=(5, 5), stride=(1, 1), padding=(2, 2))\n",
              "    (7): GroupNorm(4, 128, eps=1e-05, affine=True)\n",
              "    (8): ELU(alpha=1.0)\n",
              "    (9): ConvTranspose2d(128, 64, kernel_size=(5, 5), stride=(1, 1), padding=(1, 1))\n",
              "    (10): GroupNorm(4, 64, eps=1e-05, affine=True)\n",
              "    (11): ELU(alpha=1.0)\n",
              "    (12): ConvTranspose2d(64, 32, kernel_size=(4, 4), stride=(2, 2), padding=(1, 1))\n",
              "    (13): GroupNorm(4, 32, eps=1e-05, affine=True)\n",
              "    (14): ELU(alpha=1.0)\n",
              "    (15): ConvTranspose2d(32, 3, kernel_size=(4, 4), stride=(2, 2), padding=(1, 1))\n",
              "    (16): ELU(alpha=1.0)\n",
              "  )\n",
              "  (fc): Sequential(\n",
              "    (0): Linear(in_features=3072, out_features=1024, bias=True)\n",
              "    (1): LayerNorm((1024,), eps=1e-05, elementwise_affine=True)\n",
              "    (2): ELU(alpha=1.0)\n",
              "    (3): Linear(in_features=1024, out_features=3072, bias=True)\n",
              "  )\n",
              ")"
            ]
          },
          "metadata": {},
          "execution_count": 5
        }
      ]
    },
    {
      "cell_type": "code",
      "metadata": {
        "id": "jlNwI4GtszJM",
        "outputId": "3bd23976-1f55-43f6-8e57-f1c314fa7c27",
        "colab": {
          "base_uri": "https://localhost:8080/"
        }
      },
      "source": [
        "class Net(nn.Module):\n",
        "    def __init__(self):\n",
        "        super().__init__()\n",
        "        self.conv1 = nn.Conv2d(3, 6, 5)\n",
        "        self.pool = nn.MaxPool2d(2, 2)\n",
        "        self.conv2 = nn.Conv2d(6, 16, 5)\n",
        "        self.fc1 = nn.Linear(16 * 5 * 5, 120)\n",
        "        self.fc2 = nn.Linear(120, 84)\n",
        "        self.fc3 = nn.Linear(84, 10)\n",
        "\n",
        "    def forward(self, x):\n",
        "        x = self.pool(F.relu(self.conv1(x)))\n",
        "        x = self.pool(F.relu(self.conv2(x)))\n",
        "        x = torch.flatten(x, 1) # flatten all dimensions except batch\n",
        "        x = F.relu(self.fc1(x))\n",
        "        x = F.relu(self.fc2(x))\n",
        "        x = self.fc3(x)\n",
        "        return x\n",
        "\n",
        "model = Net()\n",
        "model.to(device)"
      ],
      "execution_count": 25,
      "outputs": [
        {
          "output_type": "execute_result",
          "data": {
            "text/plain": [
              "Net(\n",
              "  (conv1): Conv2d(3, 6, kernel_size=(5, 5), stride=(1, 1))\n",
              "  (pool): MaxPool2d(kernel_size=2, stride=2, padding=0, dilation=1, ceil_mode=False)\n",
              "  (conv2): Conv2d(6, 16, kernel_size=(5, 5), stride=(1, 1))\n",
              "  (fc1): Linear(in_features=400, out_features=120, bias=True)\n",
              "  (fc2): Linear(in_features=120, out_features=84, bias=True)\n",
              "  (fc3): Linear(in_features=84, out_features=10, bias=True)\n",
              ")"
            ]
          },
          "metadata": {},
          "execution_count": 25
        }
      ]
    },
    {
      "cell_type": "code",
      "metadata": {
        "id": "GBbYqMUVS5RR",
        "colab": {
          "base_uri": "https://localhost:8080/",
          "height": 241
        },
        "outputId": "e3959d56-d7e4-4711-fa8a-e11521e2ad37"
      },
      "source": [
        "delta = 1e-5\n",
        "lambda_ = 0.05\n",
        "tao = 0.001\n",
        "alpha = None\n",
        "correct = 0\n",
        "total = 0\n",
        "sigma = 0.1\n",
        "\n",
        "\n",
        "with torch.no_grad():\n",
        "    for i, data in enumerate(testloader, 0):\n",
        "\n",
        "        inputs, labels = data\n",
        "        predicted = torch.zeros(10, inputs.size()[0])\n",
        "\n",
        "        for i in range (10):\n",
        "\n",
        "            inputs = inputs.to(device)\n",
        "            inputs += torch.randn_like(inputs) * sigma\n",
        "            torch.clamp(inputs, 0.0, 1.0)\n",
        "\n",
        "            for _ in range (10):\n",
        "\n",
        "                denoise = net(inputs)\n",
        "\n",
        "                inputs_ = inputs + delta * denoise\n",
        "\n",
        "                f1 = torch.bmm(inputs.view(inputs.size()[0], 1, -1), inputs_.view(inputs_.size()[0], -1, 1))\n",
        "                f2 = torch.bmm(inputs.view(inputs.size()[0], 1, -1), inputs.view(inputs_.size()[0], -1, 1))\n",
        "                f = torch.div(f1, f2)\n",
        "\n",
        "                alpha = torch.squeeze(torch.clamp(lambda_ * delta / (1.0 - f), min=0.00001, max=0.1))\n",
        "                inputs = torch.clamp(inputs.detach() + alpha * denoise, 0.0, 1.0)\n",
        "\n",
        "                if (torch.norm(net(inputs), p=1) < tao):\n",
        "                    break\n",
        "\n",
        "            outputs = model(inputs)\n",
        "            _, idx = torch.max(outputs.data, 1)\n",
        "            predicted[i] = idx\n",
        "\n",
        "        predicted, _ = torch.mode(predicted, 0)\n",
        "        # break\n",
        "        print(predicted)\n",
        "        total += labels.size(0)\n",
        "        correct += (predicted == labels).sum().item()\n",
        "        # break\n",
        "    \n",
        "    print('Accuracy of the network on the 10000 test images: %d %%' % (\n",
        "        100 * correct / total))"
      ],
      "execution_count": 1,
      "outputs": [
        {
          "output_type": "error",
          "ename": "NameError",
          "evalue": "ignored",
          "traceback": [
            "\u001b[0;31m---------------------------------------------------------------------------\u001b[0m",
            "\u001b[0;31mNameError\u001b[0m                                 Traceback (most recent call last)",
            "\u001b[0;32m<ipython-input-1-6e850b27f26d>\u001b[0m in \u001b[0;36m<module>\u001b[0;34m()\u001b[0m\n\u001b[1;32m      8\u001b[0m \u001b[0;34m\u001b[0m\u001b[0m\n\u001b[1;32m      9\u001b[0m \u001b[0;34m\u001b[0m\u001b[0m\n\u001b[0;32m---> 10\u001b[0;31m \u001b[0;32mwith\u001b[0m \u001b[0mtorch\u001b[0m\u001b[0;34m.\u001b[0m\u001b[0mno_grad\u001b[0m\u001b[0;34m(\u001b[0m\u001b[0;34m)\u001b[0m\u001b[0;34m:\u001b[0m\u001b[0;34m\u001b[0m\u001b[0;34m\u001b[0m\u001b[0m\n\u001b[0m\u001b[1;32m     11\u001b[0m     \u001b[0;32mfor\u001b[0m \u001b[0mi\u001b[0m\u001b[0;34m,\u001b[0m \u001b[0mdata\u001b[0m \u001b[0;32min\u001b[0m \u001b[0menumerate\u001b[0m\u001b[0;34m(\u001b[0m\u001b[0mtestloader\u001b[0m\u001b[0;34m,\u001b[0m \u001b[0;36m0\u001b[0m\u001b[0;34m)\u001b[0m\u001b[0;34m:\u001b[0m\u001b[0;34m\u001b[0m\u001b[0;34m\u001b[0m\u001b[0m\n\u001b[1;32m     12\u001b[0m \u001b[0;34m\u001b[0m\u001b[0m\n",
            "\u001b[0;31mNameError\u001b[0m: name 'torch' is not defined"
          ]
        }
      ]
    },
    {
      "cell_type": "code",
      "metadata": {
        "id": "k8NMIOfLqFL1"
      },
      "source": [
        ""
      ],
      "execution_count": null,
      "outputs": []
    }
  ]
}