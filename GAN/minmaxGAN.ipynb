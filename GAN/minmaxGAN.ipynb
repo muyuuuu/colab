{
  "nbformat": 4,
  "nbformat_minor": 0,
  "metadata": {
    "colab": {
      "name": "Untitled1.ipynb",
      "provenance": [],
      "collapsed_sections": [],
      "authorship_tag": "ABX9TyNYEnl3i+BY8mzheMwUnNk9",
      "include_colab_link": true
    },
    "kernelspec": {
      "name": "python3",
      "display_name": "Python 3"
    },
    "language_info": {
      "name": "python"
    },
    "accelerator": "GPU"
  },
  "cells": [
    {
      "cell_type": "markdown",
      "metadata": {
        "id": "view-in-github",
        "colab_type": "text"
      },
      "source": [
        "<a href=\"https://colab.research.google.com/github/muyuuuu/colab/blob/main/GAN/minmaxGAN.ipynb\" target=\"_parent\"><img src=\"https://colab.research.google.com/assets/colab-badge.svg\" alt=\"Open In Colab\"/></a>"
      ]
    },
    {
      "cell_type": "code",
      "metadata": {
        "id": "SdMc8GHnmkr5"
      },
      "source": [
        "import torch\n",
        "import torch.nn as nn\n",
        "import torch.nn.functional as F\n",
        "import torch.optim as optim\n",
        "from torchvision import datasets, transforms\n",
        "from torchvision.utils import save_image\n",
        "\n",
        "# Device configuration\n",
        "device = torch.device('cuda' if torch.cuda.is_available() else 'cpu')"
      ],
      "execution_count": 1,
      "outputs": []
    },
    {
      "cell_type": "code",
      "metadata": {
        "id": "91rXYoV4mqFy"
      },
      "source": [
        "bs = 100\n",
        "\n",
        "# MNIST Dataset\n",
        "transform = transforms.Compose([\n",
        "    transforms.ToTensor(),\n",
        "    transforms.Normalize(mean=(0.5), std=(0.5))])\n",
        "\n",
        "train_dataset = datasets.MNIST(root='./mnist_data/', train=True, transform=transform, download=True)\n",
        "test_dataset = datasets.MNIST(root='./mnist_data/', train=False, transform=transform, download=True)\n",
        "\n",
        "# Data Loader (Input Pipeline)\n",
        "train_loader = torch.utils.data.DataLoader(dataset=train_dataset, batch_size=bs, shuffle=True)\n",
        "test_loader = torch.utils.data.DataLoader(dataset=test_dataset, batch_size=bs, shuffle=False)"
      ],
      "execution_count": 11,
      "outputs": []
    },
    {
      "cell_type": "code",
      "metadata": {
        "id": "X0e5p-NBmuzt"
      },
      "source": [
        "class Generator(nn.Module):\n",
        "    def __init__(self, g_input_dim, g_output_dim):\n",
        "        super(Generator, self).__init__()       \n",
        "        self.fc1 = nn.Linear(g_input_dim, 256)\n",
        "        self.fc2 = nn.Linear(self.fc1.out_features, self.fc1.out_features*2)\n",
        "        self.fc3 = nn.Linear(self.fc2.out_features, self.fc2.out_features*2)\n",
        "        self.fc4 = nn.Linear(self.fc3.out_features, g_output_dim)\n",
        "\n",
        "    # forward method\n",
        "    def forward(self, x): \n",
        "        x = F.leaky_relu(self.fc1(x), 0.2)\n",
        "        x = F.leaky_relu(self.fc2(x), 0.2)\n",
        "        x = F.leaky_relu(self.fc3(x), 0.2)\n",
        "        return torch.tanh(self.fc4(x))\n",
        "    \n",
        "class Discriminator(nn.Module):\n",
        "    def __init__(self, d_input_dim):\n",
        "        super(Discriminator, self).__init__()\n",
        "        self.fc1 = nn.Linear(d_input_dim, 1024)\n",
        "        self.fc2 = nn.Linear(self.fc1.out_features, self.fc1.out_features//2)\n",
        "        self.fc3 = nn.Linear(self.fc2.out_features, self.fc2.out_features//2)\n",
        "        self.fc4 = nn.Linear(self.fc3.out_features, 1)\n",
        "    \n",
        "    # forward method\n",
        "    def forward(self, x):\n",
        "        x = F.leaky_relu(self.fc1(x), 0.2)\n",
        "        x = F.dropout(x, 0.3)\n",
        "        x = F.leaky_relu(self.fc2(x), 0.2)\n",
        "        x = F.dropout(x, 0.3)\n",
        "        x = F.leaky_relu(self.fc3(x), 0.2)\n",
        "        x = F.dropout(x, 0.3)\n",
        "        return torch.sigmoid(self.fc4(x))"
      ],
      "execution_count": 3,
      "outputs": []
    },
    {
      "cell_type": "code",
      "metadata": {
        "colab": {
          "base_uri": "https://localhost:8080/"
        },
        "id": "TQ2F0nNhm9ng",
        "outputId": "576d4233-69ca-456b-81c8-6c4f9da0614b"
      },
      "source": [
        "z_dim = 100\n",
        "mnist_dim = train_dataset.train_data.size(1) * train_dataset.train_data.size(2)\n",
        "\n",
        "G = Generator(g_input_dim = z_dim, g_output_dim = mnist_dim).to(device)\n",
        "D = Discriminator(mnist_dim).to(device)"
      ],
      "execution_count": 4,
      "outputs": [
        {
          "output_type": "stream",
          "text": [
            "/usr/local/lib/python3.7/dist-packages/torchvision/datasets/mnist.py:62: UserWarning: train_data has been renamed data\n",
            "  warnings.warn(\"train_data has been renamed data\")\n"
          ],
          "name": "stderr"
        }
      ]
    },
    {
      "cell_type": "code",
      "metadata": {
        "id": "nnA-8lE1m-om"
      },
      "source": [
        "# loss\n",
        "criterion = nn.BCELoss() \n",
        "\n",
        "# optimizer\n",
        "lr = 0.0002 \n",
        "G_optimizer = optim.Adam(G.parameters(), lr = lr)\n",
        "D_optimizer = optim.Adam(D.parameters(), lr = lr)"
      ],
      "execution_count": 5,
      "outputs": []
    },
    {
      "cell_type": "code",
      "metadata": {
        "id": "ZsFRFHExnITU"
      },
      "source": [
        "def D_train(x):\n",
        "    #=======================Train the discriminator=======================#\n",
        "    D.zero_grad()\n",
        "\n",
        "    # train discriminator on real\n",
        "    x_real, y_real = x.view(-1, mnist_dim).to(device), torch.ones(bs, 1).to(device)\n",
        "\n",
        "    D_output = D(x_real)\n",
        "    D_real_loss = criterion(D_output, y_real)\n",
        "    D_real_score = D_output\n",
        "\n",
        "    # train discriminator on facke\n",
        "    z = torch.randn(bs, z_dim).to(device)\n",
        "    x_fake, y_fake = G(z), torch.zeros(bs, 1).to(device)\n",
        "\n",
        "    D_output = D(x_fake)\n",
        "    D_fake_loss = criterion(D_output, y_fake)\n",
        "    D_fake_score = D_output\n",
        "\n",
        "    # gradient backprop & optimize ONLY D's parameters\n",
        "    D_loss = D_real_loss + D_fake_loss\n",
        "    D_loss.backward()\n",
        "    D_optimizer.step()\n",
        "\n",
        "    return  D_loss.data.item()"
      ],
      "execution_count": 14,
      "outputs": []
    },
    {
      "cell_type": "code",
      "metadata": {
        "id": "oSFVgLtinLFE"
      },
      "source": [
        "def G_train(x):\n",
        "    #=======================Train the generator=======================#\n",
        "    G.zero_grad()\n",
        "\n",
        "    z = torch.randn(bs, z_dim).to(device)\n",
        "    y = torch.ones(bs, 1).to(device)\n",
        "\n",
        "    G_output = G(z)\n",
        "    D_output = D(G_output)\n",
        "    G_loss = criterion(D_output, y)\n",
        "\n",
        "    # gradient backprop & optimize ONLY G's parameters\n",
        "    G_loss.backward()\n",
        "    G_optimizer.step()\n",
        "        \n",
        "    return G_loss.data.item()"
      ],
      "execution_count": 15,
      "outputs": []
    },
    {
      "cell_type": "code",
      "metadata": {
        "colab": {
          "base_uri": "https://localhost:8080/",
          "height": 1000
        },
        "id": "JYtOIrVOnM4J",
        "outputId": "e9af8b44-260b-4c0a-c2c9-9a438e4a33c6"
      },
      "source": [
        "n_epoch = 200\n",
        "for epoch in range(1, n_epoch+1):           \n",
        "    D_losses, G_losses = [], []\n",
        "    for batch_idx, (x, _) in enumerate(train_loader):\n",
        "        for i in range(2):\n",
        "            D_train(x)\n",
        "        D_losses.append(D_train(x))\n",
        "        G_losses.append(G_train(x))\n",
        "\n",
        "    print('[%d/%d]: loss_d: %.3f, loss_g: %.3f' % (\n",
        "            (epoch), n_epoch, torch.mean(torch.FloatTensor(D_losses)), torch.mean(torch.FloatTensor(G_losses))))\n",
        "    \n",
        "    if (epoch % 10 == 0):\n",
        "        with torch.no_grad():\n",
        "            test_z = torch.randn(bs, z_dim).to(device)\n",
        "            generated = G(test_z)\n",
        "\n",
        "            save_image(generated.view(generated.size(0), 1, 28, 28), 'sample_3_{}'.format(epoch) + '.png')"
      ],
      "execution_count": 19,
      "outputs": [
        {
          "output_type": "stream",
          "text": [
            "[1/200]: loss_d: 1.183, loss_g: 1.026\n",
            "[2/200]: loss_d: 1.186, loss_g: 1.020\n",
            "[3/200]: loss_d: 1.188, loss_g: 1.009\n",
            "[4/200]: loss_d: 1.176, loss_g: 1.033\n",
            "[5/200]: loss_d: 1.176, loss_g: 1.027\n",
            "[6/200]: loss_d: 1.175, loss_g: 1.034\n",
            "[7/200]: loss_d: 1.160, loss_g: 1.065\n",
            "[8/200]: loss_d: 1.159, loss_g: 1.068\n",
            "[9/200]: loss_d: 1.156, loss_g: 1.061\n",
            "[10/200]: loss_d: 1.158, loss_g: 1.066\n",
            "[11/200]: loss_d: 1.153, loss_g: 1.086\n",
            "[12/200]: loss_d: 1.150, loss_g: 1.082\n",
            "[13/200]: loss_d: 1.153, loss_g: 1.076\n",
            "[14/200]: loss_d: 1.140, loss_g: 1.105\n",
            "[15/200]: loss_d: 1.155, loss_g: 1.070\n",
            "[16/200]: loss_d: 1.140, loss_g: 1.095\n",
            "[17/200]: loss_d: 1.132, loss_g: 1.117\n",
            "[18/200]: loss_d: 1.131, loss_g: 1.117\n",
            "[19/200]: loss_d: 1.142, loss_g: 1.097\n",
            "[20/200]: loss_d: 1.139, loss_g: 1.114\n",
            "[21/200]: loss_d: 1.144, loss_g: 1.097\n",
            "[22/200]: loss_d: 1.134, loss_g: 1.112\n",
            "[23/200]: loss_d: 1.133, loss_g: 1.115\n",
            "[24/200]: loss_d: 1.140, loss_g: 1.097\n",
            "[25/200]: loss_d: 1.131, loss_g: 1.119\n",
            "[26/200]: loss_d: 1.144, loss_g: 1.100\n",
            "[27/200]: loss_d: 1.119, loss_g: 1.142\n",
            "[28/200]: loss_d: 1.135, loss_g: 1.116\n",
            "[29/200]: loss_d: 1.128, loss_g: 1.127\n",
            "[30/200]: loss_d: 1.124, loss_g: 1.138\n",
            "[31/200]: loss_d: 1.138, loss_g: 1.105\n",
            "[32/200]: loss_d: 1.126, loss_g: 1.131\n",
            "[33/200]: loss_d: 1.133, loss_g: 1.120\n",
            "[34/200]: loss_d: 1.129, loss_g: 1.124\n",
            "[35/200]: loss_d: 1.131, loss_g: 1.115\n",
            "[36/200]: loss_d: 1.129, loss_g: 1.118\n",
            "[37/200]: loss_d: 1.121, loss_g: 1.142\n",
            "[38/200]: loss_d: 1.121, loss_g: 1.142\n",
            "[39/200]: loss_d: 1.130, loss_g: 1.125\n",
            "[40/200]: loss_d: 1.128, loss_g: 1.126\n",
            "[41/200]: loss_d: 1.122, loss_g: 1.140\n",
            "[42/200]: loss_d: 1.123, loss_g: 1.128\n",
            "[43/200]: loss_d: 1.123, loss_g: 1.128\n",
            "[44/200]: loss_d: 1.116, loss_g: 1.142\n",
            "[45/200]: loss_d: 1.127, loss_g: 1.134\n",
            "[46/200]: loss_d: 1.123, loss_g: 1.120\n",
            "[47/200]: loss_d: 1.116, loss_g: 1.143\n",
            "[48/200]: loss_d: 1.124, loss_g: 1.128\n",
            "[49/200]: loss_d: 1.113, loss_g: 1.158\n",
            "[50/200]: loss_d: 1.120, loss_g: 1.143\n",
            "[51/200]: loss_d: 1.125, loss_g: 1.132\n",
            "[52/200]: loss_d: 1.124, loss_g: 1.133\n",
            "[53/200]: loss_d: 1.122, loss_g: 1.139\n",
            "[54/200]: loss_d: 1.123, loss_g: 1.126\n",
            "[55/200]: loss_d: 1.126, loss_g: 1.133\n",
            "[56/200]: loss_d: 1.114, loss_g: 1.158\n",
            "[57/200]: loss_d: 1.122, loss_g: 1.140\n",
            "[58/200]: loss_d: 1.125, loss_g: 1.136\n",
            "[59/200]: loss_d: 1.129, loss_g: 1.126\n",
            "[60/200]: loss_d: 1.113, loss_g: 1.154\n",
            "[61/200]: loss_d: 1.122, loss_g: 1.140\n",
            "[62/200]: loss_d: 1.111, loss_g: 1.152\n",
            "[63/200]: loss_d: 1.116, loss_g: 1.151\n",
            "[64/200]: loss_d: 1.113, loss_g: 1.161\n",
            "[65/200]: loss_d: 1.124, loss_g: 1.136\n",
            "[66/200]: loss_d: 1.111, loss_g: 1.143\n",
            "[67/200]: loss_d: 1.121, loss_g: 1.127\n",
            "[68/200]: loss_d: 1.119, loss_g: 1.142\n",
            "[69/200]: loss_d: 1.113, loss_g: 1.157\n",
            "[70/200]: loss_d: 1.113, loss_g: 1.157\n",
            "[71/200]: loss_d: 1.124, loss_g: 1.134\n",
            "[72/200]: loss_d: 1.108, loss_g: 1.165\n",
            "[73/200]: loss_d: 1.113, loss_g: 1.148\n",
            "[74/200]: loss_d: 1.111, loss_g: 1.153\n",
            "[75/200]: loss_d: 1.110, loss_g: 1.150\n",
            "[76/200]: loss_d: 1.111, loss_g: 1.159\n",
            "[77/200]: loss_d: 1.111, loss_g: 1.157\n",
            "[78/200]: loss_d: 1.105, loss_g: 1.161\n",
            "[79/200]: loss_d: 1.108, loss_g: 1.170\n",
            "[80/200]: loss_d: 1.115, loss_g: 1.148\n",
            "[81/200]: loss_d: 1.104, loss_g: 1.175\n",
            "[82/200]: loss_d: 1.110, loss_g: 1.163\n",
            "[83/200]: loss_d: 1.105, loss_g: 1.159\n",
            "[84/200]: loss_d: 1.113, loss_g: 1.156\n",
            "[85/200]: loss_d: 1.113, loss_g: 1.149\n",
            "[86/200]: loss_d: 1.109, loss_g: 1.163\n",
            "[87/200]: loss_d: 1.102, loss_g: 1.176\n",
            "[88/200]: loss_d: 1.104, loss_g: 1.168\n",
            "[89/200]: loss_d: 1.112, loss_g: 1.151\n",
            "[90/200]: loss_d: 1.099, loss_g: 1.183\n",
            "[91/200]: loss_d: 1.105, loss_g: 1.174\n",
            "[92/200]: loss_d: 1.099, loss_g: 1.179\n",
            "[93/200]: loss_d: 1.101, loss_g: 1.169\n",
            "[94/200]: loss_d: 1.105, loss_g: 1.165\n",
            "[95/200]: loss_d: 1.092, loss_g: 1.193\n",
            "[96/200]: loss_d: 1.102, loss_g: 1.171\n",
            "[97/200]: loss_d: 1.096, loss_g: 1.190\n",
            "[98/200]: loss_d: 1.096, loss_g: 1.190\n",
            "[99/200]: loss_d: 1.093, loss_g: 1.178\n",
            "[100/200]: loss_d: 1.098, loss_g: 1.185\n",
            "[101/200]: loss_d: 1.088, loss_g: 1.197\n",
            "[102/200]: loss_d: 1.089, loss_g: 1.202\n",
            "[103/200]: loss_d: 1.089, loss_g: 1.196\n",
            "[104/200]: loss_d: 1.100, loss_g: 1.180\n",
            "[105/200]: loss_d: 1.088, loss_g: 1.200\n",
            "[106/200]: loss_d: 1.085, loss_g: 1.209\n",
            "[107/200]: loss_d: 1.086, loss_g: 1.200\n",
            "[108/200]: loss_d: 1.092, loss_g: 1.188\n",
            "[109/200]: loss_d: 1.087, loss_g: 1.214\n",
            "[110/200]: loss_d: 1.086, loss_g: 1.201\n",
            "[111/200]: loss_d: 1.081, loss_g: 1.218\n",
            "[112/200]: loss_d: 1.084, loss_g: 1.207\n",
            "[113/200]: loss_d: 1.085, loss_g: 1.202\n",
            "[114/200]: loss_d: 1.079, loss_g: 1.213\n",
            "[115/200]: loss_d: 1.075, loss_g: 1.224\n",
            "[116/200]: loss_d: 1.069, loss_g: 1.234\n",
            "[117/200]: loss_d: 1.077, loss_g: 1.230\n",
            "[118/200]: loss_d: 1.078, loss_g: 1.215\n",
            "[119/200]: loss_d: 1.075, loss_g: 1.229\n",
            "[120/200]: loss_d: 1.076, loss_g: 1.225\n",
            "[121/200]: loss_d: 1.071, loss_g: 1.227\n",
            "[122/200]: loss_d: 1.074, loss_g: 1.236\n",
            "[123/200]: loss_d: 1.076, loss_g: 1.225\n",
            "[124/200]: loss_d: 1.069, loss_g: 1.230\n",
            "[125/200]: loss_d: 1.070, loss_g: 1.232\n",
            "[126/200]: loss_d: 1.068, loss_g: 1.247\n",
            "[127/200]: loss_d: 1.071, loss_g: 1.241\n",
            "[128/200]: loss_d: 1.071, loss_g: 1.244\n",
            "[129/200]: loss_d: 1.071, loss_g: 1.238\n",
            "[130/200]: loss_d: 1.069, loss_g: 1.246\n",
            "[131/200]: loss_d: 1.068, loss_g: 1.241\n",
            "[132/200]: loss_d: 1.058, loss_g: 1.260\n",
            "[133/200]: loss_d: 1.063, loss_g: 1.252\n",
            "[134/200]: loss_d: 1.055, loss_g: 1.262\n",
            "[135/200]: loss_d: 1.057, loss_g: 1.263\n",
            "[136/200]: loss_d: 1.064, loss_g: 1.251\n",
            "[137/200]: loss_d: 1.069, loss_g: 1.247\n",
            "[138/200]: loss_d: 1.057, loss_g: 1.272\n",
            "[139/200]: loss_d: 1.054, loss_g: 1.277\n",
            "[140/200]: loss_d: 1.050, loss_g: 1.276\n",
            "[141/200]: loss_d: 1.059, loss_g: 1.260\n",
            "[142/200]: loss_d: 1.058, loss_g: 1.269\n",
            "[143/200]: loss_d: 1.058, loss_g: 1.267\n"
          ],
          "name": "stdout"
        },
        {
          "output_type": "error",
          "ename": "KeyboardInterrupt",
          "evalue": "ignored",
          "traceback": [
            "\u001b[0;31m---------------------------------------------------------------------------\u001b[0m",
            "\u001b[0;31mKeyboardInterrupt\u001b[0m                         Traceback (most recent call last)",
            "\u001b[0;32m<ipython-input-19-78e07b2547f4>\u001b[0m in \u001b[0;36m<module>\u001b[0;34m()\u001b[0m\n\u001b[1;32m      4\u001b[0m     \u001b[0;32mfor\u001b[0m \u001b[0mbatch_idx\u001b[0m\u001b[0;34m,\u001b[0m \u001b[0;34m(\u001b[0m\u001b[0mx\u001b[0m\u001b[0;34m,\u001b[0m \u001b[0m_\u001b[0m\u001b[0;34m)\u001b[0m \u001b[0;32min\u001b[0m \u001b[0menumerate\u001b[0m\u001b[0;34m(\u001b[0m\u001b[0mtrain_loader\u001b[0m\u001b[0;34m)\u001b[0m\u001b[0;34m:\u001b[0m\u001b[0;34m\u001b[0m\u001b[0;34m\u001b[0m\u001b[0m\n\u001b[1;32m      5\u001b[0m         \u001b[0;32mfor\u001b[0m \u001b[0mi\u001b[0m \u001b[0;32min\u001b[0m \u001b[0mrange\u001b[0m\u001b[0;34m(\u001b[0m\u001b[0;36m2\u001b[0m\u001b[0;34m)\u001b[0m\u001b[0;34m:\u001b[0m\u001b[0;34m\u001b[0m\u001b[0;34m\u001b[0m\u001b[0m\n\u001b[0;32m----> 6\u001b[0;31m             \u001b[0mD_train\u001b[0m\u001b[0;34m(\u001b[0m\u001b[0mx\u001b[0m\u001b[0;34m)\u001b[0m\u001b[0;34m\u001b[0m\u001b[0;34m\u001b[0m\u001b[0m\n\u001b[0m\u001b[1;32m      7\u001b[0m         \u001b[0mD_losses\u001b[0m\u001b[0;34m.\u001b[0m\u001b[0mappend\u001b[0m\u001b[0;34m(\u001b[0m\u001b[0mD_train\u001b[0m\u001b[0;34m(\u001b[0m\u001b[0mx\u001b[0m\u001b[0;34m)\u001b[0m\u001b[0;34m)\u001b[0m\u001b[0;34m\u001b[0m\u001b[0;34m\u001b[0m\u001b[0m\n\u001b[1;32m      8\u001b[0m         \u001b[0mG_losses\u001b[0m\u001b[0;34m.\u001b[0m\u001b[0mappend\u001b[0m\u001b[0;34m(\u001b[0m\u001b[0mG_train\u001b[0m\u001b[0;34m(\u001b[0m\u001b[0mx\u001b[0m\u001b[0;34m)\u001b[0m\u001b[0;34m)\u001b[0m\u001b[0;34m\u001b[0m\u001b[0;34m\u001b[0m\u001b[0m\n",
            "\u001b[0;32m<ipython-input-14-f91412f692b3>\u001b[0m in \u001b[0;36mD_train\u001b[0;34m(x)\u001b[0m\n\u001b[1;32m     20\u001b[0m     \u001b[0;31m# gradient backprop & optimize ONLY D's parameters\u001b[0m\u001b[0;34m\u001b[0m\u001b[0;34m\u001b[0m\u001b[0;34m\u001b[0m\u001b[0m\n\u001b[1;32m     21\u001b[0m     \u001b[0mD_loss\u001b[0m \u001b[0;34m=\u001b[0m \u001b[0mD_real_loss\u001b[0m \u001b[0;34m+\u001b[0m \u001b[0mD_fake_loss\u001b[0m\u001b[0;34m\u001b[0m\u001b[0;34m\u001b[0m\u001b[0m\n\u001b[0;32m---> 22\u001b[0;31m     \u001b[0mD_loss\u001b[0m\u001b[0;34m.\u001b[0m\u001b[0mbackward\u001b[0m\u001b[0;34m(\u001b[0m\u001b[0;34m)\u001b[0m\u001b[0;34m\u001b[0m\u001b[0;34m\u001b[0m\u001b[0m\n\u001b[0m\u001b[1;32m     23\u001b[0m     \u001b[0mD_optimizer\u001b[0m\u001b[0;34m.\u001b[0m\u001b[0mstep\u001b[0m\u001b[0;34m(\u001b[0m\u001b[0;34m)\u001b[0m\u001b[0;34m\u001b[0m\u001b[0;34m\u001b[0m\u001b[0m\n\u001b[1;32m     24\u001b[0m \u001b[0;34m\u001b[0m\u001b[0m\n",
            "\u001b[0;32m/usr/local/lib/python3.7/dist-packages/torch/_tensor.py\u001b[0m in \u001b[0;36mbackward\u001b[0;34m(self, gradient, retain_graph, create_graph, inputs)\u001b[0m\n\u001b[1;32m    253\u001b[0m                 \u001b[0mcreate_graph\u001b[0m\u001b[0;34m=\u001b[0m\u001b[0mcreate_graph\u001b[0m\u001b[0;34m,\u001b[0m\u001b[0;34m\u001b[0m\u001b[0;34m\u001b[0m\u001b[0m\n\u001b[1;32m    254\u001b[0m                 inputs=inputs)\n\u001b[0;32m--> 255\u001b[0;31m         \u001b[0mtorch\u001b[0m\u001b[0;34m.\u001b[0m\u001b[0mautograd\u001b[0m\u001b[0;34m.\u001b[0m\u001b[0mbackward\u001b[0m\u001b[0;34m(\u001b[0m\u001b[0mself\u001b[0m\u001b[0;34m,\u001b[0m \u001b[0mgradient\u001b[0m\u001b[0;34m,\u001b[0m \u001b[0mretain_graph\u001b[0m\u001b[0;34m,\u001b[0m \u001b[0mcreate_graph\u001b[0m\u001b[0;34m,\u001b[0m \u001b[0minputs\u001b[0m\u001b[0;34m=\u001b[0m\u001b[0minputs\u001b[0m\u001b[0;34m)\u001b[0m\u001b[0;34m\u001b[0m\u001b[0;34m\u001b[0m\u001b[0m\n\u001b[0m\u001b[1;32m    256\u001b[0m \u001b[0;34m\u001b[0m\u001b[0m\n\u001b[1;32m    257\u001b[0m     \u001b[0;32mdef\u001b[0m \u001b[0mregister_hook\u001b[0m\u001b[0;34m(\u001b[0m\u001b[0mself\u001b[0m\u001b[0;34m,\u001b[0m \u001b[0mhook\u001b[0m\u001b[0;34m)\u001b[0m\u001b[0;34m:\u001b[0m\u001b[0;34m\u001b[0m\u001b[0;34m\u001b[0m\u001b[0m\n",
            "\u001b[0;32m/usr/local/lib/python3.7/dist-packages/torch/autograd/__init__.py\u001b[0m in \u001b[0;36mbackward\u001b[0;34m(tensors, grad_tensors, retain_graph, create_graph, grad_variables, inputs)\u001b[0m\n\u001b[1;32m    147\u001b[0m     Variable._execution_engine.run_backward(\n\u001b[1;32m    148\u001b[0m         \u001b[0mtensors\u001b[0m\u001b[0;34m,\u001b[0m \u001b[0mgrad_tensors_\u001b[0m\u001b[0;34m,\u001b[0m \u001b[0mretain_graph\u001b[0m\u001b[0;34m,\u001b[0m \u001b[0mcreate_graph\u001b[0m\u001b[0;34m,\u001b[0m \u001b[0minputs\u001b[0m\u001b[0;34m,\u001b[0m\u001b[0;34m\u001b[0m\u001b[0;34m\u001b[0m\u001b[0m\n\u001b[0;32m--> 149\u001b[0;31m         allow_unreachable=True, accumulate_grad=True)  # allow_unreachable flag\n\u001b[0m\u001b[1;32m    150\u001b[0m \u001b[0;34m\u001b[0m\u001b[0m\n\u001b[1;32m    151\u001b[0m \u001b[0;34m\u001b[0m\u001b[0m\n",
            "\u001b[0;31mKeyboardInterrupt\u001b[0m: "
          ]
        }
      ]
    },
    {
      "cell_type": "code",
      "metadata": {
        "colab": {
          "base_uri": "https://localhost:8080/"
        },
        "id": "ggPNQXcBo7a3",
        "outputId": "1ac00ecd-c84d-4cb9-c522-35e86125b6c3"
      },
      "source": [
        "!zip image.zip *.png"
      ],
      "execution_count": 20,
      "outputs": [
        {
          "output_type": "stream",
          "text": [
            "  adding: sample_100.png (deflated 3%)\n",
            "  adding: sample_10.png (deflated 3%)\n",
            "  adding: sample_20.png (deflated 3%)\n",
            "  adding: sample_30.png (deflated 4%)\n",
            "  adding: sample_3_100.png (deflated 4%)\n",
            "  adding: sample_3_10.png (deflated 4%)\n",
            "  adding: sample_3_110.png (deflated 4%)\n",
            "  adding: sample_3_120.png (deflated 4%)\n",
            "  adding: sample_3_130.png (deflated 3%)\n",
            "  adding: sample_3_140.png (deflated 4%)\n",
            "  adding: sample_3_20.png (deflated 3%)\n",
            "  adding: sample_3_30.png (deflated 4%)\n",
            "  adding: sample_3_40.png (deflated 4%)\n",
            "  adding: sample_3_50.png (deflated 4%)\n",
            "  adding: sample_3_60.png (deflated 4%)\n",
            "  adding: sample_3_70.png (deflated 4%)\n",
            "  adding: sample_3_80.png (deflated 4%)\n",
            "  adding: sample_3_90.png (deflated 4%)\n",
            "  adding: sample_40.png (deflated 3%)\n",
            "  adding: sample_50.png (deflated 3%)\n",
            "  adding: sample_60.png (deflated 3%)\n",
            "  adding: sample_70.png (deflated 3%)\n",
            "  adding: sample_80.png (deflated 3%)\n",
            "  adding: sample_90.png (deflated 3%)\n"
          ],
          "name": "stdout"
        }
      ]
    },
    {
      "cell_type": "code",
      "metadata": {
        "colab": {
          "base_uri": "https://localhost:8080/"
        },
        "id": "GYXF8onWFFig",
        "outputId": "4844b073-9d2f-4e9f-c276-3284b86c430c"
      },
      "source": [
        "!ls"
      ],
      "execution_count": 21,
      "outputs": [
        {
          "output_type": "stream",
          "text": [
            "image.zip\t  sample_3_10.png   sample_3_40.png  sample_50.png\n",
            "mnist_data\t  sample_3_110.png  sample_3_50.png  sample_60.png\n",
            "sample_100.png\t  sample_3_120.png  sample_3_60.png  sample_70.png\n",
            "sample_10.png\t  sample_3_130.png  sample_3_70.png  sample_80.png\n",
            "sample_20.png\t  sample_3_140.png  sample_3_80.png  sample_90.png\n",
            "sample_30.png\t  sample_3_20.png   sample_3_90.png  sample_data\n",
            "sample_3_100.png  sample_3_30.png   sample_40.png\n"
          ],
          "name": "stdout"
        }
      ]
    },
    {
      "cell_type": "code",
      "metadata": {
        "id": "3NTIbz3KFRx3"
      },
      "source": [
        ""
      ],
      "execution_count": null,
      "outputs": []
    }
  ]
}