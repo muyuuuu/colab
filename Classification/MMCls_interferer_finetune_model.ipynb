{
  "nbformat": 4,
  "nbformat_minor": 0,
  "metadata": {
    "colab": {
      "name": "MMCls-interferer-load-model.ipynb",
      "provenance": [],
      "collapsed_sections": [],
      "toc_visible": true,
      "authorship_tag": "ABX9TyM4WNLwSFCmWTPGUvQUBQm8",
      "include_colab_link": true
    },
    "kernelspec": {
      "name": "python3",
      "display_name": "Python 3"
    },
    "language_info": {
      "name": "python"
    },
    "accelerator": "GPU"
  },
  "cells": [
    {
      "cell_type": "markdown",
      "metadata": {
        "id": "view-in-github",
        "colab_type": "text"
      },
      "source": [
        "<a href=\"https://colab.research.google.com/github/muyuuuu/open-mmlab-colab/blob/main/MMCls_interferer_finetune_model.ipynb\" target=\"_parent\"><img src=\"https://colab.research.google.com/assets/colab-badge.svg\" alt=\"Open In Colab\"/></a>"
      ]
    },
    {
      "cell_type": "markdown",
      "metadata": {
        "id": "7OxuBQhgQzA5"
      },
      "source": [
        "# torch 版本检查"
      ]
    },
    {
      "cell_type": "code",
      "metadata": {
        "id": "odpPxtFOPSTC"
      },
      "source": [
        "import torch, torchvision "
      ],
      "execution_count": 1,
      "outputs": []
    },
    {
      "cell_type": "code",
      "metadata": {
        "colab": {
          "base_uri": "https://localhost:8080/"
        },
        "id": "CzMe3CfePorf",
        "outputId": "95503348-72f5-4d80-dce3-a29815522ceb"
      },
      "source": [
        "print(torch.__version__)\n",
        "print(torch.cuda.is_available())"
      ],
      "execution_count": 2,
      "outputs": [
        {
          "output_type": "stream",
          "text": [
            "1.8.1+cu101\n",
            "True\n"
          ],
          "name": "stdout"
        }
      ]
    },
    {
      "cell_type": "markdown",
      "metadata": {
        "id": "1AED_sDDQ5iQ"
      },
      "source": [
        "# 安装 MMVC MMCls"
      ]
    },
    {
      "cell_type": "code",
      "metadata": {
        "colab": {
          "base_uri": "https://localhost:8080/"
        },
        "id": "f2cXkkPDPuct",
        "outputId": "2640acd2-3770-400d-8c93-2752a34ea2cc"
      },
      "source": [
        "!pip install mmcv-full -f https://download.openmmlab.com/mmcv/dist/cu101/torch1.8.0/index.html"
      ],
      "execution_count": 3,
      "outputs": [
        {
          "output_type": "stream",
          "text": [
            "Looking in links: https://download.openmmlab.com/mmcv/dist/cu101/torch1.8.0/index.html\n",
            "Requirement already satisfied: mmcv-full in /usr/local/lib/python3.7/dist-packages (1.3.4)\n",
            "Requirement already satisfied: addict in /usr/local/lib/python3.7/dist-packages (from mmcv-full) (2.4.0)\n",
            "Requirement already satisfied: numpy in /usr/local/lib/python3.7/dist-packages (from mmcv-full) (1.19.5)\n",
            "Requirement already satisfied: opencv-python>=3 in /usr/local/lib/python3.7/dist-packages (from mmcv-full) (4.1.2.30)\n",
            "Requirement already satisfied: pyyaml in /usr/local/lib/python3.7/dist-packages (from mmcv-full) (3.13)\n",
            "Requirement already satisfied: yapf in /usr/local/lib/python3.7/dist-packages (from mmcv-full) (0.31.0)\n",
            "Requirement already satisfied: Pillow in /usr/local/lib/python3.7/dist-packages (from mmcv-full) (7.1.2)\n"
          ],
          "name": "stdout"
        }
      ]
    },
    {
      "cell_type": "code",
      "metadata": {
        "colab": {
          "base_uri": "https://localhost:8080/"
        },
        "id": "smYuwmMuQ99E",
        "outputId": "c1506076-d6dd-4111-f89a-12ec353bc22b"
      },
      "source": [
        "!git clone https://github.com/open-mmlab/mmclassification.git"
      ],
      "execution_count": 4,
      "outputs": [
        {
          "output_type": "stream",
          "text": [
            "fatal: destination path 'mmclassification' already exists and is not an empty directory.\n"
          ],
          "name": "stdout"
        }
      ]
    },
    {
      "cell_type": "code",
      "metadata": {
        "colab": {
          "base_uri": "https://localhost:8080/"
        },
        "id": "p3jJEzzLwGda",
        "outputId": "70364ef7-b18e-475b-ce77-e29178d76d98"
      },
      "source": [
        "!ls\n",
        "%cd mmclassification/\n",
        "!pip install -v -e ."
      ],
      "execution_count": 5,
      "outputs": [
        {
          "output_type": "stream",
          "text": [
            "mmclassification  sample_data\n",
            "/content/mmclassification\n",
            "Created temporary directory: /tmp/pip-ephem-wheel-cache-zgarv59y\n",
            "Created temporary directory: /tmp/pip-req-tracker-jctz24ii\n",
            "Created requirements tracker '/tmp/pip-req-tracker-jctz24ii'\n",
            "Created temporary directory: /tmp/pip-install-ft1bpifc\n",
            "Obtaining file:///content/mmclassification\n",
            "  Added file:///content/mmclassification to build tracker '/tmp/pip-req-tracker-jctz24ii'\n",
            "    Running setup.py (path:/content/mmclassification/setup.py) egg_info for package from file:///content/mmclassification\n",
            "    Running command python setup.py egg_info\n",
            "    running egg_info\n",
            "    writing mmcls.egg-info/PKG-INFO\n",
            "    writing dependency_links to mmcls.egg-info/dependency_links.txt\n",
            "    writing requirements to mmcls.egg-info/requires.txt\n",
            "    writing top-level names to mmcls.egg-info/top_level.txt\n",
            "    adding license file 'LICENSE' (matched pattern 'LICEN[CS]E*')\n",
            "    reading manifest template 'MANIFEST.in'\n",
            "    warning: no files found matching 'mmcls/model_zoo.yml'\n",
            "    warning: no files found matching '*.py' under directory 'mmcls/configs'\n",
            "    warning: no files found matching '*.yml' under directory 'mmcls/configs'\n",
            "    warning: no files found matching '*.sh' under directory 'mmcls/tools'\n",
            "    warning: no files found matching '*.py' under directory 'mmcls/tools'\n",
            "    writing manifest file 'mmcls.egg-info/SOURCES.txt'\n",
            "  Source in /content/mmclassification has version 0.11.0, which satisfies requirement mmcls==0.11.0 from file:///content/mmclassification\n",
            "  Removed mmcls==0.11.0 from file:///content/mmclassification from build tracker '/tmp/pip-req-tracker-jctz24ii'\n",
            "Requirement already satisfied: matplotlib in /usr/local/lib/python3.7/dist-packages (from mmcls==0.11.0) (3.2.2)\n",
            "Requirement already satisfied: numpy in /usr/local/lib/python3.7/dist-packages (from mmcls==0.11.0) (1.19.5)\n",
            "Requirement already satisfied: python-dateutil>=2.1 in /usr/local/lib/python3.7/dist-packages (from matplotlib->mmcls==0.11.0) (2.8.1)\n",
            "Requirement already satisfied: pyparsing!=2.0.4,!=2.1.2,!=2.1.6,>=2.0.1 in /usr/local/lib/python3.7/dist-packages (from matplotlib->mmcls==0.11.0) (2.4.7)\n",
            "Requirement already satisfied: kiwisolver>=1.0.1 in /usr/local/lib/python3.7/dist-packages (from matplotlib->mmcls==0.11.0) (1.3.1)\n",
            "Requirement already satisfied: cycler>=0.10 in /usr/local/lib/python3.7/dist-packages (from matplotlib->mmcls==0.11.0) (0.10.0)\n",
            "Requirement already satisfied: six>=1.5 in /usr/local/lib/python3.7/dist-packages (from python-dateutil>=2.1->matplotlib->mmcls==0.11.0) (1.15.0)\n",
            "Installing collected packages: mmcls\n",
            "  Found existing installation: mmcls 0.11.0\n",
            "    Not sure how to uninstall: mmcls 0.11.0 - Check: /content/mmclassification\n",
            "    Can't uninstall 'mmcls'. No files were found to uninstall.\n",
            "  Running setup.py develop for mmcls\n",
            "    Running command /usr/bin/python3 -c 'import sys, setuptools, tokenize; sys.argv[0] = '\"'\"'/content/mmclassification/setup.py'\"'\"'; __file__='\"'\"'/content/mmclassification/setup.py'\"'\"';f=getattr(tokenize, '\"'\"'open'\"'\"', open)(__file__);code=f.read().replace('\"'\"'\\r\\n'\"'\"', '\"'\"'\\n'\"'\"');f.close();exec(compile(code, __file__, '\"'\"'exec'\"'\"'))' develop --no-deps\n",
            "    running develop\n",
            "    running egg_info\n",
            "    writing mmcls.egg-info/PKG-INFO\n",
            "    writing dependency_links to mmcls.egg-info/dependency_links.txt\n",
            "    writing requirements to mmcls.egg-info/requires.txt\n",
            "    writing top-level names to mmcls.egg-info/top_level.txt\n",
            "    adding license file 'LICENSE' (matched pattern 'LICEN[CS]E*')\n",
            "    reading manifest template 'MANIFEST.in'\n",
            "    warning: no files found matching 'mmcls/model_zoo.yml'\n",
            "    warning: no files found matching '*.py' under directory 'mmcls/configs'\n",
            "    warning: no files found matching '*.yml' under directory 'mmcls/configs'\n",
            "    warning: no files found matching '*.sh' under directory 'mmcls/tools'\n",
            "    warning: no files found matching '*.py' under directory 'mmcls/tools'\n",
            "    writing manifest file 'mmcls.egg-info/SOURCES.txt'\n",
            "    running build_ext\n",
            "    Creating /usr/local/lib/python3.7/dist-packages/mmcls.egg-link (link to .)\n",
            "    mmcls 0.11.0 is already the active version in easy-install.pth\n",
            "\n",
            "    Installed /content/mmclassification\n",
            "Successfully installed mmcls\n",
            "Cleaning up...\n",
            "Removed build tracker '/tmp/pip-req-tracker-jctz24ii'\n"
          ],
          "name": "stdout"
        }
      ]
    },
    {
      "cell_type": "code",
      "metadata": {
        "colab": {
          "base_uri": "https://localhost:8080/"
        },
        "id": "eAJ85-41SGG-",
        "outputId": "46f5a934-67a8-4399-d94d-834a90f537df"
      },
      "source": [
        "!pwd\n",
        "!mkdir data\n",
        "%cd ..\n",
        "!pwd"
      ],
      "execution_count": 6,
      "outputs": [
        {
          "output_type": "stream",
          "text": [
            "/content/mmclassification\n",
            "mkdir: cannot create directory ‘data’: File exists\n",
            "/content\n",
            "/content\n"
          ],
          "name": "stdout"
        }
      ]
    },
    {
      "cell_type": "code",
      "metadata": {
        "id": "VIxyR39XS0ba"
      },
      "source": [
        "import mmcls"
      ],
      "execution_count": 7,
      "outputs": []
    },
    {
      "cell_type": "markdown",
      "metadata": {
        "id": "_j2zotaaYiN1"
      },
      "source": [
        "# 猫狗分类数据集"
      ]
    },
    {
      "cell_type": "code",
      "metadata": {
        "id": "T7CU0_DgSlw7",
        "colab": {
          "base_uri": "https://localhost:8080/"
        },
        "outputId": "9bc26537-d54f-40f9-9a13-be33b0b1a759"
      },
      "source": [
        "!wget https://www.dropbox.com/s/wml49yrtdo53mie/cats_dogs_dataset_reorg.zip?dl=0 -O dataset.zip"
      ],
      "execution_count": 8,
      "outputs": [
        {
          "output_type": "stream",
          "text": [
            "--2021-05-15 12:47:26--  https://www.dropbox.com/s/wml49yrtdo53mie/cats_dogs_dataset_reorg.zip?dl=0\n",
            "Resolving www.dropbox.com (www.dropbox.com)... 162.125.7.18, 2620:100:6019:18::a27d:412\n",
            "Connecting to www.dropbox.com (www.dropbox.com)|162.125.7.18|:443... connected.\n",
            "HTTP request sent, awaiting response... 301 Moved Permanently\n",
            "Location: /s/raw/wml49yrtdo53mie/cats_dogs_dataset_reorg.zip [following]\n",
            "--2021-05-15 12:47:27--  https://www.dropbox.com/s/raw/wml49yrtdo53mie/cats_dogs_dataset_reorg.zip\n",
            "Reusing existing connection to www.dropbox.com:443.\n",
            "HTTP request sent, awaiting response... 302 Found\n",
            "Location: https://uc48cb7ee43b76b68494262ca1a4.dl.dropboxusercontent.com/cd/0/inline/BOhoP5XzOvuFW2rlGOy4TfojtJ1V1DMMOUKCdMbOIkgviGUoD6JE3szFkeko97rJMUg-qufkFKrBd7xI_yvEB976Yov_tcHAZUWUwsK2nV6uHCySgMdYjcROpcPRpqIlWY8jZsYcPQwYBtISuiOYiZJu/file# [following]\n",
            "--2021-05-15 12:47:27--  https://uc48cb7ee43b76b68494262ca1a4.dl.dropboxusercontent.com/cd/0/inline/BOhoP5XzOvuFW2rlGOy4TfojtJ1V1DMMOUKCdMbOIkgviGUoD6JE3szFkeko97rJMUg-qufkFKrBd7xI_yvEB976Yov_tcHAZUWUwsK2nV6uHCySgMdYjcROpcPRpqIlWY8jZsYcPQwYBtISuiOYiZJu/file\n",
            "Resolving uc48cb7ee43b76b68494262ca1a4.dl.dropboxusercontent.com (uc48cb7ee43b76b68494262ca1a4.dl.dropboxusercontent.com)... 162.125.6.15, 2620:100:601c:15::a27d:60f\n",
            "Connecting to uc48cb7ee43b76b68494262ca1a4.dl.dropboxusercontent.com (uc48cb7ee43b76b68494262ca1a4.dl.dropboxusercontent.com)|162.125.6.15|:443... connected.\n",
            "HTTP request sent, awaiting response... 302 Found\n",
            "Location: /cd/0/inline2/BOjKGujfewHzDjaaqWW0Ae-N2towBmcPphgwZw5e7gVSQcyyWzmNRAkisUVDEBBS4p6Dap3PvhJsnjrDRmzmioBsZyuveKHv5T7CQ1oIOrFDXbggkyvlQMKcEIOPBCIStqprsn93o8xnDJHrbmLszGWppoVsq30uHCa30gvuZUZGvYnKiTkJd7MAbguAYFBk7fAFVImioWfg_Jyl5deGPXRPkts_mJmnx5z3U46jOPy2LEg_5KDdGZgNf5VCnMi0WybUdmZJlvRayBBGt_5G9XM9QLFuyWY3kx0_R8ql0sZtyA4hWpnxZi-OH-V_2qoAAczK1oNyDNyFA2CrCabZ0G2RdiaU1UAB3RQi8hu_iez9d3NoHxEiAs37yqpyAUujMGE/file [following]\n",
            "--2021-05-15 12:47:27--  https://uc48cb7ee43b76b68494262ca1a4.dl.dropboxusercontent.com/cd/0/inline2/BOjKGujfewHzDjaaqWW0Ae-N2towBmcPphgwZw5e7gVSQcyyWzmNRAkisUVDEBBS4p6Dap3PvhJsnjrDRmzmioBsZyuveKHv5T7CQ1oIOrFDXbggkyvlQMKcEIOPBCIStqprsn93o8xnDJHrbmLszGWppoVsq30uHCa30gvuZUZGvYnKiTkJd7MAbguAYFBk7fAFVImioWfg_Jyl5deGPXRPkts_mJmnx5z3U46jOPy2LEg_5KDdGZgNf5VCnMi0WybUdmZJlvRayBBGt_5G9XM9QLFuyWY3kx0_R8ql0sZtyA4hWpnxZi-OH-V_2qoAAczK1oNyDNyFA2CrCabZ0G2RdiaU1UAB3RQi8hu_iez9d3NoHxEiAs37yqpyAUujMGE/file\n",
            "Reusing existing connection to uc48cb7ee43b76b68494262ca1a4.dl.dropboxusercontent.com:443.\n",
            "HTTP request sent, awaiting response... 200 OK\n",
            "Length: 228802825 (218M) [application/zip]\n",
            "Saving to: ‘dataset.zip’\n",
            "\n",
            "dataset.zip         100%[===================>] 218.20M   125MB/s    in 1.7s    \n",
            "\n",
            "2021-05-15 12:47:29 (125 MB/s) - ‘dataset.zip’ saved [228802825/228802825]\n",
            "\n"
          ],
          "name": "stdout"
        }
      ]
    },
    {
      "cell_type": "code",
      "metadata": {
        "colab": {
          "base_uri": "https://localhost:8080/"
        },
        "id": "qLyJ44o8S4ay",
        "outputId": "50989a4e-8a9c-494a-915d-05689253deb1"
      },
      "source": [
        "!pwd\n",
        "%cd mmclassification/\n",
        "!mkdir data\n",
        "%cd .."
      ],
      "execution_count": 10,
      "outputs": [
        {
          "output_type": "stream",
          "text": [
            "/content\n",
            "/content/mmclassification\n",
            "mkdir: cannot create directory ‘data’: File exists\n",
            "/content\n"
          ],
          "name": "stdout"
        }
      ]
    },
    {
      "cell_type": "code",
      "metadata": {
        "id": "WaDV_jdqxDPM"
      },
      "source": [
        "!unzip -q dataset.zip -d mmclassification/data/"
      ],
      "execution_count": 11,
      "outputs": []
    },
    {
      "cell_type": "code",
      "metadata": {
        "colab": {
          "base_uri": "https://localhost:8080/"
        },
        "id": "VzGCsZ1TTh46",
        "outputId": "6e66059b-0be2-4b07-a95e-ea75f0a84ac0"
      },
      "source": [
        "!ls"
      ],
      "execution_count": null,
      "outputs": [
        {
          "output_type": "stream",
          "text": [
            "bin\t       content\tetc   lib32  mnt   root  srv\t\t    tmp    var\n",
            "boot\t       datalab\thome  lib64  opt   run\t sys\t\t    tools\n",
            "cats_dogs.zip  dev\tlib   media  proc  sbin  tensorflow-1.15.2  usr\n"
          ],
          "name": "stdout"
        }
      ]
    },
    {
      "cell_type": "markdown",
      "metadata": {
        "id": "qUl4SZFUYl88"
      },
      "source": [
        "# 加载模型"
      ]
    },
    {
      "cell_type": "code",
      "metadata": {
        "colab": {
          "base_uri": "https://localhost:8080/"
        },
        "id": "wjOgvNMbE3wz",
        "outputId": "b92a8aab-07c6-4f28-a8c8-9dedb786f727"
      },
      "source": [
        "%cd mmclassification/\n",
        "!mkdir checkpoints\n",
        "%cd .."
      ],
      "execution_count": 13,
      "outputs": [
        {
          "output_type": "stream",
          "text": [
            "/content/mmclassification\n",
            "/content\n"
          ],
          "name": "stdout"
        }
      ]
    },
    {
      "cell_type": "code",
      "metadata": {
        "colab": {
          "base_uri": "https://localhost:8080/"
        },
        "id": "tGRfA3vZUk_R",
        "outputId": "e870b690-2112-4366-bbab-be03a661b35d"
      },
      "source": [
        "!wget https://download.openmmlab.com/mmclassification/v0/mobilenet_v2/mobilenet_v2_batch256_imagenet_20200708-3b2dc3af.pth -P /content/mmclassification/checkpoints/"
      ],
      "execution_count": 58,
      "outputs": [
        {
          "output_type": "stream",
          "text": [
            "--2021-05-15 13:20:45--  https://download.openmmlab.com/mmclassification/v0/mobilenet_v2/mobilenet_v2_batch256_imagenet_20200708-3b2dc3af.pth\n",
            "Resolving download.openmmlab.com (download.openmmlab.com)... 47.252.96.35\n",
            "Connecting to download.openmmlab.com (download.openmmlab.com)|47.252.96.35|:443... connected.\n",
            "HTTP request sent, awaiting response... 200 OK\n",
            "Length: 14206911 (14M) [application/octet-stream]\n",
            "Saving to: ‘/content/mmclassification/checkpoints/mobilenet_v2_batch256_imagenet_20200708-3b2dc3af.pth’\n",
            "\n",
            "mobilenet_v2_batch2 100%[===================>]  13.55M  6.71MB/s    in 2.0s    \n",
            "\n",
            "2021-05-15 13:20:48 (6.71 MB/s) - ‘/content/mmclassification/checkpoints/mobilenet_v2_batch256_imagenet_20200708-3b2dc3af.pth’ saved [14206911/14206911]\n",
            "\n"
          ],
          "name": "stdout"
        }
      ]
    },
    {
      "cell_type": "markdown",
      "metadata": {
        "id": "jAqR_MdzVjlp"
      },
      "source": [
        "# 训练"
      ]
    },
    {
      "cell_type": "code",
      "metadata": {
        "colab": {
          "base_uri": "https://localhost:8080/"
        },
        "id": "2-DzLKqtFRv1",
        "outputId": "6804a7e7-64aa-4aaf-ba2a-bd8811da32d8"
      },
      "source": [
        "%cd mmclassification/"
      ],
      "execution_count": 19,
      "outputs": [
        {
          "output_type": "stream",
          "text": [
            "/content/mmclassification\n"
          ],
          "name": "stdout"
        }
      ]
    },
    {
      "cell_type": "code",
      "metadata": {
        "id": "FolhwI6AFnwu"
      },
      "source": [
        "!mkdir work_dirs"
      ],
      "execution_count": 20,
      "outputs": []
    },
    {
      "cell_type": "code",
      "metadata": {
        "colab": {
          "base_uri": "https://localhost:8080/"
        },
        "id": "C9hqnIGwFzya",
        "outputId": "fecf2c4f-3da2-4a88-deb6-df2c9a8e34d2"
      },
      "source": [
        "!python tools/train.py configs/mobilenet_v2/mynet.py --work-dir work_dirs/"
      ],
      "execution_count": 64,
      "outputs": [
        {
          "output_type": "stream",
          "text": [
            "2021-05-15 13:22:48,332 - mmcls - INFO - Environment info:\n",
            "------------------------------------------------------------\n",
            "sys.platform: linux\n",
            "Python: 3.7.10 (default, May  3 2021, 02:48:31) [GCC 7.5.0]\n",
            "CUDA available: True\n",
            "GPU 0: Tesla T4\n",
            "CUDA_HOME: /usr/local/cuda\n",
            "NVCC: Build cuda_11.0_bu.TC445_37.28845127_0\n",
            "GCC: gcc (Ubuntu 7.5.0-3ubuntu1~18.04) 7.5.0\n",
            "PyTorch: 1.8.1+cu101\n",
            "PyTorch compiling details: PyTorch built with:\n",
            "  - GCC 7.3\n",
            "  - C++ Version: 201402\n",
            "  - Intel(R) Math Kernel Library Version 2020.0.0 Product Build 20191122 for Intel(R) 64 architecture applications\n",
            "  - Intel(R) MKL-DNN v1.7.0 (Git Hash 7aed236906b1f7a05c0917e5257a1af05e9ff683)\n",
            "  - OpenMP 201511 (a.k.a. OpenMP 4.5)\n",
            "  - NNPACK is enabled\n",
            "  - CPU capability usage: AVX2\n",
            "  - CUDA Runtime 10.1\n",
            "  - NVCC architecture flags: -gencode;arch=compute_37,code=sm_37;-gencode;arch=compute_50,code=sm_50;-gencode;arch=compute_60,code=sm_60;-gencode;arch=compute_70,code=sm_70\n",
            "  - CuDNN 7.6.3\n",
            "  - Magma 2.5.2\n",
            "  - Build settings: BLAS_INFO=mkl, BUILD_TYPE=Release, CUDA_VERSION=10.1, CUDNN_VERSION=7.6.3, CXX_COMPILER=/opt/rh/devtoolset-7/root/usr/bin/c++, CXX_FLAGS= -Wno-deprecated -fvisibility-inlines-hidden -DUSE_PTHREADPOOL -fopenmp -DNDEBUG -DUSE_KINETO -DUSE_FBGEMM -DUSE_QNNPACK -DUSE_PYTORCH_QNNPACK -DUSE_XNNPACK -O2 -fPIC -Wno-narrowing -Wall -Wextra -Werror=return-type -Wno-missing-field-initializers -Wno-type-limits -Wno-array-bounds -Wno-unknown-pragmas -Wno-sign-compare -Wno-unused-parameter -Wno-unused-variable -Wno-unused-function -Wno-unused-result -Wno-unused-local-typedefs -Wno-strict-overflow -Wno-strict-aliasing -Wno-error=deprecated-declarations -Wno-stringop-overflow -Wno-psabi -Wno-error=pedantic -Wno-error=redundant-decls -Wno-error=old-style-cast -fdiagnostics-color=always -faligned-new -Wno-unused-but-set-variable -Wno-maybe-uninitialized -fno-math-errno -fno-trapping-math -Werror=format -Wno-stringop-overflow, LAPACK_INFO=mkl, PERF_WITH_AVX=1, PERF_WITH_AVX2=1, PERF_WITH_AVX512=1, TORCH_VERSION=1.8.1, USE_CUDA=ON, USE_CUDNN=ON, USE_EXCEPTION_PTR=1, USE_GFLAGS=OFF, USE_GLOG=OFF, USE_MKL=ON, USE_MKLDNN=ON, USE_MPI=OFF, USE_NCCL=ON, USE_NNPACK=ON, USE_OPENMP=ON, \n",
            "\n",
            "TorchVision: 0.9.1+cu101\n",
            "OpenCV: 4.1.2\n",
            "MMCV: 1.3.4\n",
            "MMCV Compiler: GCC 7.3\n",
            "MMCV CUDA Compiler: 10.1\n",
            "MMClassification: 0.11.0+5ee0876\n",
            "------------------------------------------------------------\n",
            "\n",
            "2021-05-15 13:22:48,332 - mmcls - INFO - Distributed training: False\n",
            "2021-05-15 13:22:48,493 - mmcls - INFO - Config:\n",
            "model = dict(\n",
            "    type='ImageClassifier',\n",
            "    backbone=dict(type='MobileNetV2', widen_factor=1.0),\n",
            "    neck=dict(type='GlobalAveragePooling'),\n",
            "    head=dict(\n",
            "        type='LinearClsHead',\n",
            "        num_classes=2,\n",
            "        in_channels=1280,\n",
            "        loss=dict(type='CrossEntropyLoss', loss_weight=1.0),\n",
            "        topk=(1, )))\n",
            "dataset_type = 'ImageNet'\n",
            "img_norm_cfg = dict(\n",
            "    mean=[123.675, 116.28, 103.53], std=[58.395, 57.12, 57.375], to_rgb=True)\n",
            "train_pipeline = [\n",
            "    dict(type='LoadImageFromFile'),\n",
            "    dict(type='RandomResizedCrop', size=224, backend='pillow'),\n",
            "    dict(type='RandomFlip', flip_prob=0.5, direction='horizontal'),\n",
            "    dict(\n",
            "        type='Normalize',\n",
            "        mean=[123.675, 116.28, 103.53],\n",
            "        std=[58.395, 57.12, 57.375],\n",
            "        to_rgb=True),\n",
            "    dict(type='ImageToTensor', keys=['img']),\n",
            "    dict(type='ToTensor', keys=['gt_label']),\n",
            "    dict(type='Collect', keys=['img', 'gt_label'])\n",
            "]\n",
            "test_pipeline = [\n",
            "    dict(type='LoadImageFromFile'),\n",
            "    dict(type='Resize', size=(256, -1), backend='pillow'),\n",
            "    dict(type='CenterCrop', crop_size=224),\n",
            "    dict(\n",
            "        type='Normalize',\n",
            "        mean=[123.675, 116.28, 103.53],\n",
            "        std=[58.395, 57.12, 57.375],\n",
            "        to_rgb=True),\n",
            "    dict(type='ImageToTensor', keys=['img']),\n",
            "    dict(type='Collect', keys=['img'])\n",
            "]\n",
            "data = dict(\n",
            "    samples_per_gpu=32,\n",
            "    workers_per_gpu=2,\n",
            "    train=dict(\n",
            "        type='ImageNet',\n",
            "        data_prefix='data/cats_dogs/training_set/training_set',\n",
            "        pipeline=[\n",
            "            dict(type='LoadImageFromFile'),\n",
            "            dict(type='RandomResizedCrop', size=224, backend='pillow'),\n",
            "            dict(type='RandomFlip', flip_prob=0.5, direction='horizontal'),\n",
            "            dict(\n",
            "                type='Normalize',\n",
            "                mean=[123.675, 116.28, 103.53],\n",
            "                std=[58.395, 57.12, 57.375],\n",
            "                to_rgb=True),\n",
            "            dict(type='ImageToTensor', keys=['img']),\n",
            "            dict(type='ToTensor', keys=['gt_label']),\n",
            "            dict(type='Collect', keys=['img', 'gt_label'])\n",
            "        ],\n",
            "        classes='data/cats_dogs/classes.txt'),\n",
            "    val=dict(\n",
            "        type='ImageNet',\n",
            "        data_prefix='data/cats_dogs/val_set/val_set',\n",
            "        ann_file='data/cats_dogs/val.txt',\n",
            "        pipeline=[\n",
            "            dict(type='LoadImageFromFile'),\n",
            "            dict(type='Resize', size=(256, -1), backend='pillow'),\n",
            "            dict(type='CenterCrop', crop_size=224),\n",
            "            dict(\n",
            "                type='Normalize',\n",
            "                mean=[123.675, 116.28, 103.53],\n",
            "                std=[58.395, 57.12, 57.375],\n",
            "                to_rgb=True),\n",
            "            dict(type='ImageToTensor', keys=['img']),\n",
            "            dict(type='Collect', keys=['img'])\n",
            "        ],\n",
            "        classes='data/cats_dogs/classes.txt'),\n",
            "    test=dict(\n",
            "        type='ImageNet',\n",
            "        data_prefix='data/cats_dogs/test_set/test_set',\n",
            "        ann_file='data/cats_dogs/test.txt',\n",
            "        pipeline=[\n",
            "            dict(type='LoadImageFromFile'),\n",
            "            dict(type='Resize', size=(256, -1), backend='pillow'),\n",
            "            dict(type='CenterCrop', crop_size=224),\n",
            "            dict(\n",
            "                type='Normalize',\n",
            "                mean=[123.675, 116.28, 103.53],\n",
            "                std=[58.395, 57.12, 57.375],\n",
            "                to_rgb=True),\n",
            "            dict(type='ImageToTensor', keys=['img']),\n",
            "            dict(type='Collect', keys=['img'])\n",
            "        ],\n",
            "        classes='data/cats_dogs/classes.txt'))\n",
            "evaluation = dict(interval=1, metric='accuracy')\n",
            "optimizer = dict(type='SGD', lr=0.045, momentum=0.9, weight_decay=4e-05)\n",
            "optimizer_config = dict(grad_clip=None)\n",
            "lr_config = dict(policy='step', gamma=0.98, step=1)\n",
            "runner = dict(type='EpochBasedRunner', max_epochs=2)\n",
            "checkpoint_config = dict(interval=1)\n",
            "log_config = dict(interval=100, hooks=[dict(type='TextLoggerHook')])\n",
            "dist_params = dict(backend='nccl')\n",
            "log_level = 'INFO'\n",
            "load_from = '/content/mmclassification/checkpoints/mobilenet_v2_batch256_imagenet_20200708-3b2dc3af.pth'\n",
            "resume_from = None\n",
            "workflow = [('train', 1)]\n",
            "work_dir = 'work_dirs/'\n",
            "gpu_ids = range(0, 1)\n",
            "\n",
            "2021-05-15 13:22:52,069 - mmcls - INFO - load checkpoint from /content/mmclassification/checkpoints/mobilenet_v2_batch256_imagenet_20200708-3b2dc3af.pth\n",
            "2021-05-15 13:22:52,069 - mmcls - INFO - Use load_from_local loader\n",
            "2021-05-15 13:22:52,098 - mmcls - WARNING - The model and loaded state dict do not match exactly\n",
            "\n",
            "size mismatch for head.fc.weight: copying a param with shape torch.Size([1000, 1280]) from checkpoint, the shape in current model is torch.Size([2, 1280]).\n",
            "size mismatch for head.fc.bias: copying a param with shape torch.Size([1000]) from checkpoint, the shape in current model is torch.Size([2]).\n",
            "2021-05-15 13:22:52,099 - mmcls - INFO - Start running, host: root@91b0db8feab9, work_dir: /content/mmclassification/work_dirs\n",
            "2021-05-15 13:22:52,099 - mmcls - INFO - workflow: [('train', 1)], max: 2 epochs\n",
            "2021-05-15 13:23:10,337 - mmcls - INFO - Epoch [1][100/201]\tlr: 4.500e-02, eta: 0:00:54, time: 0.182, data_time: 0.100, memory: 1709, loss: 1.4389\n",
            "2021-05-15 13:23:26,389 - mmcls - INFO - Epoch [1][200/201]\tlr: 4.500e-02, eta: 0:00:34, time: 0.160, data_time: 0.078, memory: 1709, loss: 0.7387\n",
            "[>>] 1601/1601, 213.7 task/s, elapsed: 7s, ETA:     0s2021-05-15 13:23:34,005 - mmcls - INFO - Saving checkpoint at 1 epochs\n",
            "2021-05-15 13:23:34,064 - mmcls - INFO - Epoch(val) [1][51]\taccuracy_top-1: 53.0918, accuracy_top-5: 100.0000\n",
            "2021-05-15 13:23:52,440 - mmcls - INFO - Epoch [2][100/201]\tlr: 4.410e-02, eta: 0:00:17, time: 0.183, data_time: 0.102, memory: 1709, loss: 0.7585\n",
            "2021-05-15 13:24:08,575 - mmcls - INFO - Epoch [2][200/201]\tlr: 4.410e-02, eta: 0:00:00, time: 0.161, data_time: 0.080, memory: 1709, loss: 0.7292\n",
            "[>>] 1601/1601, 214.1 task/s, elapsed: 7s, ETA:     0s2021-05-15 13:24:16,176 - mmcls - INFO - Saving checkpoint at 2 epochs\n",
            "2021-05-15 13:24:16,237 - mmcls - INFO - Epoch(val) [2][51]\taccuracy_top-1: 57.7139, accuracy_top-5: 100.0000\n"
          ],
          "name": "stdout"
        }
      ]
    },
    {
      "cell_type": "markdown",
      "metadata": {
        "id": "IXyCn9GfM0QT"
      },
      "source": [
        "# 测试"
      ]
    },
    {
      "cell_type": "code",
      "metadata": {
        "colab": {
          "base_uri": "https://localhost:8080/"
        },
        "id": "CP4ca8oLMO7G",
        "outputId": "cbcdabe0-9f66-49f0-e3ef-f87045105c68"
      },
      "source": [
        "!python tools/test.py configs/mobilenet_v2/mynet.py work_dirs/latest.pth --metrics=accuracy"
      ],
      "execution_count": 70,
      "outputs": [
        {
          "output_type": "stream",
          "text": [
            "Use load_from_local loader\n",
            "[>>] 2023/2023, 211.3 task/s, elapsed: 10s, ETA:     0s\n",
            "accuracy_top-1 : 55.36\n",
            "\n",
            "accuracy_top-5 : 100.00\n",
            "\n",
            "writing results to result.json\n"
          ],
          "name": "stdout"
        }
      ]
    },
    {
      "cell_type": "markdown",
      "metadata": {
        "id": "C-6fkPYnObTj"
      },
      "source": [
        "# 写出到 json"
      ]
    },
    {
      "cell_type": "code",
      "metadata": {
        "colab": {
          "base_uri": "https://localhost:8080/"
        },
        "id": "dqboBTvqNHT0",
        "outputId": "2f545e1d-c140-4788-f4cc-a56ce53aa180"
      },
      "source": [
        "!python tools/test.py configs/mobilenet_v2/mynet.py work_dirs/latest.pth --out=work_dirs/result.json"
      ],
      "execution_count": 72,
      "outputs": [
        {
          "output_type": "stream",
          "text": [
            "Use load_from_local loader\n",
            "[>>] 2023/2023, 210.7 task/s, elapsed: 10s, ETA:     0stools/test.py:145: UserWarning: Evaluation metrics are not specified.\n",
            "  warnings.warn('Evaluation metrics are not specified.')\n",
            "\n",
            "writing results to work_dirs/result.json\n"
          ],
          "name": "stdout"
        }
      ]
    },
    {
      "cell_type": "code",
      "metadata": {
        "id": "g1hVF4caONuN"
      },
      "source": [
        ""
      ],
      "execution_count": null,
      "outputs": []
    }
  ]
}